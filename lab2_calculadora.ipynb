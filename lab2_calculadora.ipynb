{
  "nbformat": 4,
  "nbformat_minor": 0,
  "metadata": {
    "colab": {
      "provenance": [],
      "history_visible": true,
      "authorship_tag": "ABX9TyOXBGALdwjJ7ilQ4le+tfUX",
      "include_colab_link": true
    },
    "kernelspec": {
      "name": "python3",
      "display_name": "Python 3"
    },
    "language_info": {
      "name": "python"
    }
  },
  "cells": [
    {
      "cell_type": "markdown",
      "metadata": {
        "id": "view-in-github",
        "colab_type": "text"
      },
      "source": [
        "<a href=\"https://colab.research.google.com/github/gustavoofarias/Curso-em-video-Python/blob/main/lab2_calculadora.ipynb\" target=\"_parent\"><img src=\"https://colab.research.google.com/assets/colab-badge.svg\" alt=\"Open In Colab\"/></a>"
      ]
    },
    {
      "cell_type": "markdown",
      "source": [
        "Calculadora em Python"
      ],
      "metadata": {
        "id": "aj2eO84F10L4"
      }
    },
    {
      "cell_type": "code",
      "execution_count": 4,
      "metadata": {
        "colab": {
          "base_uri": "https://localhost:8080/"
        },
        "id": "9t0Oheia1VuR",
        "outputId": "903310cd-93b1-4888-ef57-d4f2d1f8776f"
      },
      "outputs": [
        {
          "output_type": "stream",
          "name": "stdout",
          "text": [
            "Digite o primeiro número: 5\n",
            "Digite o segundo número: 5\n",
            "Escolha a operação:\n",
            "    1. Soma\n",
            "    2. Subtração\n",
            "    3. Divisão\n",
            "    4. Multiplicação\n",
            "    \n",
            "Digite o número da operação: 1\n",
            "O resultado da soma é: 10.0\n",
            "Escolha a operação:\n",
            "    1. Soma\n",
            "    2. Subtração\n",
            "    3. Divisão\n",
            "    4. Multiplicação\n",
            "    \n",
            "Digite o número da operação: 21\n",
            "Operação inválida\n"
          ]
        }
      ],
      "source": [
        "def calculadora(num1, num2):\n",
        "    print('''Escolha a operação:\n",
        "    1. Soma\n",
        "    2. Subtração\n",
        "    3. Divisão\n",
        "    4. Multiplicação\n",
        "    ''')\n",
        "\n",
        "    escolha = int(input(\"Digite o número da operação: \"))\n",
        "\n",
        "    if escolha == 1:\n",
        "        resultado = num1 + num2\n",
        "        operacao = \"soma\"\n",
        "    elif escolha == 2:\n",
        "        resultado = num1 - num2\n",
        "        operacao = \"subtração\"\n",
        "    elif escolha == 3:\n",
        "        resultado = num1 / num2\n",
        "        operacao = \"divisão\"\n",
        "    elif escolha == 4:\n",
        "        resultado = num1 * num2\n",
        "        operacao = \"multiplicação\"\n",
        "    else:\n",
        "        return \"Operação inválida\"\n",
        "\n",
        "    return f\"O resultado da {operacao} é: {resultado}\"\n",
        "\n",
        "# Exemplo de uso\n",
        "num1 = float(input(\"Digite o primeiro número: \"))\n",
        "num2 = float(input(\"Digite o segundo número: \"))\n",
        "\n",
        "print(calculadora(num1, num2))\n",
        "\n",
        "\n",
        "calculo = calculadora(5,5)\n",
        "print(calculo)\n",
        "\n",
        "\n",
        "\n",
        "\n"
      ]
    }
  ]
}